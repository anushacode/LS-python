{
  "nbformat": 4,
  "nbformat_minor": 0,
  "metadata": {
    "colab": {
      "name": "Assignment 2 day 3.ipynb",
      "provenance": [],
      "collapsed_sections": []
    },
    "kernelspec": {
      "name": "python3",
      "display_name": "Python 3"
    }
  },
  "cells": [
    {
      "cell_type": "markdown",
      "metadata": {
        "id": "mO1nb19x-2Ey"
      },
      "source": [
        "Question 1: Use IF ELSE & Elif to write a program to write for your report cards."
      ]
    },
    {
      "cell_type": "code",
      "metadata": {
        "id": "-tH3vM7DXOT-"
      },
      "source": [
        "->A if percentage >85\r\n",
        "  ->A- if %<=85 and >80\r\n",
        "  ->B if %<=80 and >70\r\n",
        "  ->C if %<=70 and >60\r\n",
        "  ->D if %<=60 and >40\r\n",
        "->E if %<=40 and also should print 'candidate failed' if %<=35\r\n",
        "\r\n",
        "msg = 'enter the percentage of student:'\r\n",
        "print(msg)\r\n",
        "a = raw_input()\r\n",
        "a = int(a.strip())\r\n",
        "if(a>85):\r\n",
        "  print('Grade - \\'A\\'')\r\n",
        "\r\n",
        "  elif(a>60 and a<=70):\r\n",
        "    print('Grade - \\'C\\'')\r\n"
      ],
      "execution_count": null,
      "outputs": []
    },
    {
      "cell_type": "markdown",
      "metadata": {
        "id": "AtMlsxrc_yeP"
      },
      "source": [
        "Question 2: Use for loop to print prime numbers in between 1 to 1000."
      ]
    },
    {
      "cell_type": "code",
      "metadata": {
        "id": "cWa8IzrOUdzv"
      },
      "source": [
        "lower int(input(\"Enter lower prime number:\"))\r\n",
        "upper int(input(\"Enter upper prime number:\"))\r\n",
        "for num in range(lower,upper+1):\r\n",
        "  if num>1:\r\n",
        "    for i in range(99,num):\r\n",
        "      if(num%i)==0:\r\n",
        "        break\r\n",
        "    else:\r\n",
        "      print(num)"
      ],
      "execution_count": null,
      "outputs": []
    },
    {
      "cell_type": "markdown",
      "metadata": {
        "id": "0Yk9xKQVAm5l"
      },
      "source": [
        "Question 3: Write a program for printing the tables from 1,10 using nested for loop."
      ]
    },
    {
      "cell_type": "code",
      "metadata": {
        "colab": {
          "base_uri": "https://localhost:8080/"
        },
        "id": "tYiiagK1A3S4",
        "outputId": "c2e2c3af-0a98-4c6d-a16d-6bee4c2db862"
      },
      "source": [
        "num= int(input(\"Enter the number:\"))\r\n",
        "print(\"multiplication table of,num\")\r\n",
        "for i in range(1,11):\r\n",
        "  print(num, \"x\",i,\"=\", num*i)"
      ],
      "execution_count": null,
      "outputs": [
        {
          "output_type": "stream",
          "text": [
            "Enter the number:10\n",
            "multiplication table of,num\n",
            "10 x 1 = 10\n",
            "10 x 2 = 20\n",
            "10 x 3 = 30\n",
            "10 x 4 = 40\n",
            "10 x 5 = 50\n",
            "10 x 6 = 60\n",
            "10 x 7 = 70\n",
            "10 x 8 = 80\n",
            "10 x 9 = 90\n",
            "10 x 10 = 100\n"
          ],
          "name": "stdout"
        }
      ]
    },
    {
      "cell_type": "markdown",
      "metadata": {
        "id": "T32jU3b5BkBX"
      },
      "source": [
        "Question 4: Write a program to print x prime numbers using while loop starting from 0 and take the Input of x from the user."
      ]
    },
    {
      "cell_type": "code",
      "metadata": {
        "colab": {
          "base_uri": "https://localhost:8080/"
        },
        "id": "Vtjbeyz-BxLv",
        "outputId": "6f3231e5-1b28-40f3-aa8f-e42c89d94581"
      },
      "source": [
        "i=1\r\n",
        "while i<5:\r\n",
        "  print(i)\r\n",
        "  i+=1"
      ],
      "execution_count": null,
      "outputs": [
        {
          "output_type": "stream",
          "text": [
            "1\n",
            "2\n",
            "3\n",
            "4\n"
          ],
          "name": "stdout"
        }
      ]
    }
  ]
}