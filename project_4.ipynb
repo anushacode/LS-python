{
  "nbformat": 4,
  "nbformat_minor": 0,
  "metadata": {
    "colab": {
      "name": "project 4.ipynb",
      "provenance": [],
      "collapsed_sections": []
    },
    "kernelspec": {
      "name": "python3",
      "display_name": "Python 3"
    }
  },
  "cells": [
    {
      "cell_type": "markdown",
      "metadata": {
        "id": "C2h6E4OZr9pD"
      },
      "source": [
        "Project 4: Using Firebase in python"
      ]
    },
    {
      "cell_type": "code",
      "metadata": {
        "colab": {
          "base_uri": "https://localhost:8080/"
        },
        "id": "khhN0oqasJRP",
        "outputId": "e53262da-f42c-4813-f861-8928cfe8ac21"
      },
      "source": [
        "!pip install firebase"
      ],
      "execution_count": 1,
      "outputs": [
        {
          "output_type": "stream",
          "text": [
            "Collecting firebase\n",
            "  Downloading https://files.pythonhosted.org/packages/f8/33/6b2a24e349563f2d279ccc8321f26a9c0d6d2f8205adb68f3046c3ec7a89/firebase-3.0.1-py3-none-any.whl\n",
            "Requirement already satisfied: requests in /usr/local/lib/python3.6/dist-packages (from firebase) (2.23.0)\n",
            "Requirement already satisfied: certifi>=2017.4.17 in /usr/local/lib/python3.6/dist-packages (from requests->firebase) (2020.12.5)\n",
            "Requirement already satisfied: idna<3,>=2.5 in /usr/local/lib/python3.6/dist-packages (from requests->firebase) (2.10)\n",
            "Requirement already satisfied: urllib3!=1.25.0,!=1.25.1,<1.26,>=1.21.1 in /usr/local/lib/python3.6/dist-packages (from requests->firebase) (1.24.3)\n",
            "Requirement already satisfied: chardet<4,>=3.0.2 in /usr/local/lib/python3.6/dist-packages (from requests->firebase) (3.0.4)\n",
            "Installing collected packages: firebase\n",
            "Successfully installed firebase-3.0.1\n"
          ],
          "name": "stdout"
        }
      ]
    },
    {
      "cell_type": "code",
      "metadata": {
        "id": "lVAeyuSAsRyg"
      },
      "source": [
        "import firebase_admin\r\n"
      ],
      "execution_count": 2,
      "outputs": []
    },
    {
      "cell_type": "code",
      "metadata": {
        "id": "NvRR1Z5JsYff"
      },
      "source": [
        "from firebase_admin import credentials\r\n",
        "from firebase_admin import firestore"
      ],
      "execution_count": 3,
      "outputs": []
    },
    {
      "cell_type": "code",
      "metadata": {
        "id": "wgITQ7FIse1E"
      },
      "source": [
        "cred = credentials.Certificate(\"python-demo-firebase-adminsdk-uarq8-8b119e9471.json\")\r\n",
        "firebase_admin.initialize_app(cred)"
      ],
      "execution_count": null,
      "outputs": []
    },
    {
      "cell_type": "code",
      "metadata": {
        "id": "DppPnWBYsuVO"
      },
      "source": [
        "db = firestore.client()"
      ],
      "execution_count": null,
      "outputs": []
    },
    {
      "cell_type": "code",
      "metadata": {
        "id": "ZkV-qUE2sz9a"
      },
      "source": [
        "doc_ref = db.collection(u'users').document(u'abc')\r\n",
        "\r\n",
        "doc_ref.set({\r\n",
        "    u'first': u'ann',\r\n",
        "    u'last': u'Gokki',\r\n",
        "    u'born': 1994\r\n",
        "})"
      ],
      "execution_count": null,
      "outputs": []
    },
    {
      "cell_type": "code",
      "metadata": {
        "id": "N1SgYhgis-wf"
      },
      "source": [
        "def enterDataInDB():\r\n",
        "    doc_ref = db.collection(u'LetsUpgradeUsers').document()\r\n",
        "    \r\n",
        "    name = input(\"Enter Name - \")\r\n",
        "    lastName = input(\"Enter Last Name - \")\r\n",
        "    age = int(input(\"Enter Age - \"))\r\n",
        "    \r\n",
        "    dit = {}\r\n",
        "    dit[\"firstName\"] = name\r\n",
        "    dit[\"lastName\"] = lastName\r\n",
        "    dit[\"age\"] = age\r\n",
        "    \r\n",
        "    doc_ref.set(dit)\r\n",
        "    "
      ],
      "execution_count": null,
      "outputs": []
    },
    {
      "cell_type": "code",
      "metadata": {
        "id": "binFK78ctDr-"
      },
      "source": [
        "enterDataInDB(\"sam\",\"lu\",90)"
      ],
      "execution_count": null,
      "outputs": []
    },
    {
      "cell_type": "code",
      "metadata": {
        "id": "mHlci_ivtIYN"
      },
      "source": [
        "enterDataInDB(\"sarah\",\"lu\",90)"
      ],
      "execution_count": null,
      "outputs": []
    },
    {
      "cell_type": "code",
      "metadata": {
        "id": "PZBs2i74tJSK"
      },
      "source": [
        "enterDataInDB(\"rahul\",\"lu\",90)"
      ],
      "execution_count": null,
      "outputs": []
    },
    {
      "cell_type": "code",
      "metadata": {
        "id": "QU1i4Wx5tKE3"
      },
      "source": [
        "enterDataInDB(\"ramesh\",\"lu\",90)"
      ],
      "execution_count": null,
      "outputs": []
    },
    {
      "cell_type": "code",
      "metadata": {
        "id": "1whuexdQtK4F"
      },
      "source": [
        "enterDataInDB(\"ann\",\"lu\",90)"
      ],
      "execution_count": null,
      "outputs": []
    },
    {
      "cell_type": "code",
      "metadata": {
        "id": "kj9HL-g1tSJJ"
      },
      "source": [
        "enterDataInDB()"
      ],
      "execution_count": null,
      "outputs": []
    },
    {
      "cell_type": "code",
      "metadata": {
        "id": "pibJuu7XtX69"
      },
      "source": [
        "docs = db.collection(u'LetsUpgradeUsers').stream()\r\n",
        "\r\n",
        "for doc in docs:\r\n",
        "\r\n",
        "    \r\n",
        "    print(\"ID - \", doc.id)\r\n",
        "    \r\n",
        "    print(\"First Name - \", doc.to_dict().get(\"firstName\"))\r\n",
        "    print(\"Last Name - \", doc.to_dict().get(\"lastName\"))\r\n",
        "    print(\"Age - \", doc.to_dict().get(\"age\") )\r\n",
        "    \r\n",
        "    print(\"---------------\")\r\n",
        "    print(\"---------------\")\r\n",
        "    "
      ],
      "execution_count": null,
      "outputs": []
    },
    {
      "cell_type": "code",
      "metadata": {
        "id": "oi_vVl3VtdaU"
      },
      "source": [
        "def updateDatainFirebase(uid, updatedAge):\r\n",
        "    doc_ref = db.collection(u'LetsUpgradeUsers').document(uid)\r\n",
        "    \r\n",
        "    doc_ref.update({\"age\":updatedAge})"
      ],
      "execution_count": null,
      "outputs": []
    },
    {
      "cell_type": "code",
      "metadata": {
        "id": "JTcAYfA8tiUv"
      },
      "source": [
        "updateDatainFirebase(\"zslFTBzZl8BKFhSI4Yxw\",24)"
      ],
      "execution_count": null,
      "outputs": []
    },
    {
      "cell_type": "code",
      "metadata": {
        "id": "nOI4TUEQtlzt"
      },
      "source": [
        "updateDatainFirebase(\"tQQd4Kt7UdGD6xuldAAN\",19)"
      ],
      "execution_count": null,
      "outputs": []
    },
    {
      "cell_type": "code",
      "metadata": {
        "id": "tkM0vJLqtpyM"
      },
      "source": [
        "def deleteDataInFirebase(uid):\r\n",
        "    db.collection(u'LetsUpgradeUsers').document(uid).delete()"
      ],
      "execution_count": null,
      "outputs": []
    },
    {
      "cell_type": "code",
      "metadata": {
        "id": "P7E2P34WttjE"
      },
      "source": [
        "deleteDataInFirebase(\"0rg4glbfc8l7cuTbl2MD\")"
      ],
      "execution_count": null,
      "outputs": []
    }
  ]
}