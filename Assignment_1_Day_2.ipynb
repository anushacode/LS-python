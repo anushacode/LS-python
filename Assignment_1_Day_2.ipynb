{
  "nbformat": 4,
  "nbformat_minor": 0,
  "metadata": {
    "colab": {
      "name": "Assignment 1 Day 2.ipynb",
      "provenance": [],
      "collapsed_sections": []
    },
    "kernelspec": {
      "name": "python3",
      "display_name": "Python 3"
    }
  },
  "cells": [
    {
      "cell_type": "markdown",
      "metadata": {
        "id": "XxPxPN9k3hYT"
      },
      "source": [
        "Question 1: Program to write functions of string in python"
      ]
    },
    {
      "cell_type": "code",
      "metadata": {
        "colab": {
          "base_uri": "https://localhost:8080/"
        },
        "id": "5a_1gRsR3rAf",
        "outputId": "9f3f30c7-21a3-4315-a085-2f9c788415fb"
      },
      "source": [
        "\r\n",
        "s= 'hello world'\r\n",
        "print(s.center(6))"
      ],
      "execution_count": null,
      "outputs": [
        {
          "output_type": "stream",
          "text": [
            "hello world\n"
          ],
          "name": "stdout"
        }
      ]
    },
    {
      "cell_type": "code",
      "metadata": {
        "colab": {
          "base_uri": "https://localhost:8080/",
          "height": 35
        },
        "id": "s1BhypVK4Y9V",
        "outputId": "bf61986a-ef22-4b5a-8a2f-51e4bab10e13"
      },
      "source": [
        "'             have a good day       '.lstrip()"
      ],
      "execution_count": null,
      "outputs": [
        {
          "output_type": "execute_result",
          "data": {
            "application/vnd.google.colaboratory.intrinsic+json": {
              "type": "string"
            },
            "text/plain": [
              "'have a good day       '"
            ]
          },
          "metadata": {
            "tags": []
          },
          "execution_count": 6
        }
      ]
    },
    {
      "cell_type": "code",
      "metadata": {
        "colab": {
          "base_uri": "https://localhost:8080/"
        },
        "id": "EYIiCXhX4sE5",
        "outputId": "f999ea8f-9798-4017-83f7-bb983e4b27da"
      },
      "source": [
        "'1,2,,7,'.split(',')                                            "
      ],
      "execution_count": null,
      "outputs": [
        {
          "output_type": "execute_result",
          "data": {
            "text/plain": [
              "['1', '2', '', '7', '']"
            ]
          },
          "metadata": {
            "tags": []
          },
          "execution_count": 28
        }
      ]
    },
    {
      "cell_type": "code",
      "metadata": {
        "colab": {
          "base_uri": "https://localhost:8080/"
        },
        "id": "_5YcUEj45DzG",
        "outputId": "c9e20bdf-4e06-49b0-a752-d35b790d8c76"
      },
      "source": [
        "'ab c\\n\\eede fg\\rkl\\r\\z'.splitlines()"
      ],
      "execution_count": null,
      "outputs": [
        {
          "output_type": "execute_result",
          "data": {
            "text/plain": [
              "['ab c', '\\\\eede fg', 'kl', '\\\\z']"
            ]
          },
          "metadata": {
            "tags": []
          },
          "execution_count": 7
        }
      ]
    },
    {
      "cell_type": "code",
      "metadata": {
        "colab": {
          "base_uri": "https://localhost:8080/"
        },
        "id": "sKWxTJ4L5W5t",
        "outputId": "0840b9e1-4a1a-4084-d1c1-cc4c7a68a450"
      },
      "source": [
        "b'ABCabc1'.isalnum()\r\n"
      ],
      "execution_count": null,
      "outputs": [
        {
          "output_type": "execute_result",
          "data": {
            "text/plain": [
              "True"
            ]
          },
          "metadata": {
            "tags": []
          },
          "execution_count": 10
        }
      ]
    },
    {
      "cell_type": "markdown",
      "metadata": {
        "id": "g4smZ-gM6Jut"
      },
      "source": [
        "Question 2: program to write functions of list objects in python"
      ]
    },
    {
      "cell_type": "code",
      "metadata": {
        "colab": {
          "base_uri": "https://localhost:8080/"
        },
        "id": "zYZVSjQP6z_C",
        "outputId": "72385364-04c3-492b-d0b6-095abe7da784"
      },
      "source": [
        "xs= [\"apple\", \"orange\", \"tom\", \"pineapple\"]\r\n",
        "print(xs)"
      ],
      "execution_count": null,
      "outputs": [
        {
          "output_type": "stream",
          "text": [
            "['apple', 'orange', 'tom', 'pineapple']\n"
          ],
          "name": "stdout"
        }
      ]
    },
    {
      "cell_type": "code",
      "metadata": {
        "colab": {
          "base_uri": "https://localhost:8080/"
        },
        "id": "vtHaVfYi7RHS",
        "outputId": "8641bf20-54cc-44a4-8a69-5193c50a17a7"
      },
      "source": [
        "xs.append('watermelon')\r\n",
        "print(xs)\r\n"
      ],
      "execution_count": null,
      "outputs": [
        {
          "output_type": "stream",
          "text": [
            "['apple', 'orange', 'tom', 'pineapple', 'watermelon']\n"
          ],
          "name": "stdout"
        }
      ]
    },
    {
      "cell_type": "code",
      "metadata": {
        "colab": {
          "base_uri": "https://localhost:8080/"
        },
        "id": "ZfS4Ktqh7gOC",
        "outputId": "34af2271-4877-47fd-ec7d-6146aa8937a6"
      },
      "source": [
        "xs2=[\"11\",\"12\",\"34\",\"66\",\"88\"]\r\n",
        "xs2.count(\"66\")"
      ],
      "execution_count": null,
      "outputs": [
        {
          "output_type": "execute_result",
          "data": {
            "text/plain": [
              "1"
            ]
          },
          "metadata": {
            "tags": []
          },
          "execution_count": 21
        }
      ]
    },
    {
      "cell_type": "code",
      "metadata": {
        "colab": {
          "base_uri": "https://localhost:8080/"
        },
        "id": "fNZAdyC78IZF",
        "outputId": "20799e41-2e87-4fc6-89ab-a42c85f1ce08"
      },
      "source": [
        "xs2.sort()\r\n",
        "print(xs2)"
      ],
      "execution_count": null,
      "outputs": [
        {
          "output_type": "stream",
          "text": [
            "['11', '12', '34', '66', '88']\n"
          ],
          "name": "stdout"
        }
      ]
    },
    {
      "cell_type": "code",
      "metadata": {
        "colab": {
          "base_uri": "https://localhost:8080/"
        },
        "id": "IIOuJ-pB8T6x",
        "outputId": "34f9b337-7baa-437b-f37a-aea2907fea95"
      },
      "source": [
        "xs2.index(\"34\")"
      ],
      "execution_count": null,
      "outputs": [
        {
          "output_type": "execute_result",
          "data": {
            "text/plain": [
              "1"
            ]
          },
          "metadata": {
            "tags": []
          },
          "execution_count": 26
        }
      ]
    },
    {
      "cell_type": "markdown",
      "metadata": {
        "id": "aHrs0vSR8qWX"
      },
      "source": [
        "Question 3: Functions of Dictionary:"
      ]
    },
    {
      "cell_type": "code",
      "metadata": {
        "colab": {
          "base_uri": "https://localhost:8080/"
        },
        "id": "VCYXJWRI8yDL",
        "outputId": "f15268fb-eec7-4b44-8b6f-59c48c36f0aa"
      },
      "source": [
        "dict=[\"basketball,\"\"football\", \"volleyball\", \"baseball\"]\r\n",
        "print(dict)"
      ],
      "execution_count": null,
      "outputs": [
        {
          "output_type": "stream",
          "text": [
            "['basketball,football', 'volleyball', 'baseball']\n"
          ],
          "name": "stdout"
        }
      ]
    },
    {
      "cell_type": "code",
      "metadata": {
        "colab": {
          "base_uri": "https://localhost:8080/"
        },
        "id": "9Vbg29YwvxcQ",
        "outputId": "93f462a1-8489-423d-bad2-63237d98ba41"
      },
      "source": [
        "dict=[\"football\"]\r\n",
        "print(dict)\r\n"
      ],
      "execution_count": null,
      "outputs": [
        {
          "output_type": "stream",
          "text": [
            "['football']\n"
          ],
          "name": "stdout"
        }
      ]
    },
    {
      "cell_type": "code",
      "metadata": {
        "colab": {
          "base_uri": "https://localhost:8080/"
        },
        "id": "nI-YH71ASMgq",
        "outputId": "f7e801f2-a1a6-40b3-8f46-cc47ddafef08"
      },
      "source": [
        "thisdict =\t{\r\n",
        "  \"brand\": \"Audi\",\r\n",
        "  \"model\": \"A8 L\",\r\n",
        "  \"year\": 1994\r\n",
        "}\r\n",
        "print(thisdict)\r\n"
      ],
      "execution_count": null,
      "outputs": [
        {
          "output_type": "stream",
          "text": [
            "{'brand': 'Audi', 'model': 'A8 L', 'year': 1994}\n"
          ],
          "name": "stdout"
        }
      ]
    },
    {
      "cell_type": "code",
      "metadata": {
        "colab": {
          "base_uri": "https://localhost:8080/"
        },
        "id": "tHhnLTmYS6Yt",
        "outputId": "750cae57-cf6d-4c92-a6e8-ed684b796e67"
      },
      "source": [
        "my_dict = {'name': 'Anusha', 'age': 27}\r\n",
        "print(my_dict['name'])\r\n"
      ],
      "execution_count": null,
      "outputs": [
        {
          "output_type": "stream",
          "text": [
            "Anusha\n"
          ],
          "name": "stdout"
        }
      ]
    },
    {
      "cell_type": "code",
      "metadata": {
        "colab": {
          "base_uri": "https://localhost:8080/"
        },
        "id": "HNbYgN9HTPxB",
        "outputId": "ca11e628-4151-4582-e6ba-3889c96c166e"
      },
      "source": [
        "my_dict = {'name': 'Anusha', 'age': 27}\r\n",
        "my_dict['address'] = 'Downtowns'\r\n",
        "print(my_dict)"
      ],
      "execution_count": null,
      "outputs": [
        {
          "output_type": "stream",
          "text": [
            "{'name': 'Anusha', 'age': 27, 'address': 'Downtowns'}\n"
          ],
          "name": "stdout"
        }
      ]
    }
  ]
}