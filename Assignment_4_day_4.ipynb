{
  "nbformat": 4,
  "nbformat_minor": 0,
  "metadata": {
    "colab": {
      "name": "Assignment 4- day 4.ipynb",
      "provenance": []
    },
    "kernelspec": {
      "name": "python3",
      "display_name": "Python 3"
    }
  },
  "cells": [
    {
      "cell_type": "markdown",
      "metadata": {
        "id": "3Ra2_3PXIcNK"
      },
      "source": [
        "Question 1:Write a program in python for opening a File and writing \"I love Letsupgrade\" and close it and read it back again and then Append some Data to it and close it."
      ]
    },
    {
      "cell_type": "code",
      "metadata": {
        "id": "9F3ppZ_LJSW2"
      },
      "source": [
        "abc=open(\"Heyworld.txt\", 'w')\r\n",
        "abc.write(\"I love Letsupgrade\")\r\n",
        "abc.close()"
      ],
      "execution_count": null,
      "outputs": []
    },
    {
      "cell_type": "code",
      "metadata": {
        "id": "M3rt1AM7MPSR"
      },
      "source": [
        "abc=open(\"Heyworld.txt\", 'r')\r\n",
        "content=abc.read()\r\n",
        "abc.close()"
      ],
      "execution_count": null,
      "outputs": []
    },
    {
      "cell_type": "code",
      "metadata": {
        "colab": {
          "base_uri": "https://localhost:8080/",
          "height": 35
        },
        "id": "3pgZCu98NJl5",
        "outputId": "6b98ff97-536b-4aab-ffab-2ba2dea2a1e0"
      },
      "source": [
        "content"
      ],
      "execution_count": null,
      "outputs": [
        {
          "output_type": "execute_result",
          "data": {
            "application/vnd.google.colaboratory.intrinsic+json": {
              "type": "string"
            },
            "text/plain": [
              "'I love Letsupgrade'"
            ]
          },
          "metadata": {
            "tags": []
          },
          "execution_count": 13
        }
      ]
    },
    {
      "cell_type": "code",
      "metadata": {
        "id": "1fUvP7HSNM4S"
      },
      "source": [
        "xyz=open(\"HEY.txt\", 'w')\r\n",
        "xyz.write(\"Happy Learning\")\r\n",
        "xyz.close()"
      ],
      "execution_count": null,
      "outputs": []
    },
    {
      "cell_type": "code",
      "metadata": {
        "id": "qnkFMYGnOYek"
      },
      "source": [
        "xyz=open(\"HEY.txt\", 'a')\r\n",
        "content=abc.read()\r\n",
        "abc.close()"
      ],
      "execution_count": null,
      "outputs": []
    },
    {
      "cell_type": "markdown",
      "metadata": {
        "id": "SKZ-GH4RuKY9"
      },
      "source": [
        "Question 2:write a function which can return a factorial of any numbers as INT, given in the argument."
      ]
    },
    {
      "cell_type": "code",
      "metadata": {
        "colab": {
          "base_uri": "https://localhost:8080/"
        },
        "id": "8N4phXCyuX4t",
        "outputId": "d8689e3f-09e4-4094-ee23-c484a331ae52"
      },
      "source": [
        "def factorial(n):\r\n",
        "    if n == 0:\r\n",
        "        return 1\r\n",
        "    else:\r\n",
        "        return n * factorial(n-1)\r\n",
        "n=int(input(\"Input a number to compute the factiorial : \"))\r\n",
        "print(factorial(n))"
      ],
      "execution_count": 2,
      "outputs": [
        {
          "output_type": "stream",
          "text": [
            "Input a number to compute the factiorial : 3\n",
            "6\n"
          ],
          "name": "stdout"
        }
      ]
    }
  ]
}